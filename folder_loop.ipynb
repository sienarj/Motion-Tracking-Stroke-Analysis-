{
 "cells": [
  {
   "cell_type": "code",
   "execution_count": 36,
   "id": "54ac641b-7c95-489a-be1b-25b7dede6f60",
   "metadata": {},
   "outputs": [
    {
     "name": "stderr",
     "output_type": "stream",
     "text": [
      "Processing frames: 100%|█████████▉| 1470/1471 [00:11<00:00, 129.36it/s]\n"
     ]
    },
    {
     "name": "stdout",
     "output_type": "stream",
     "text": [
      "\n",
      "Position data saved to /Users/sienajobson/Desktop/MSc Neuroaesthetics/research project/videos30/IEW10191_drawing_2_e1_1_Y_30.csv\n",
      " Appended data to existing master file: second_pass.csv\n"
     ]
    },
    {
     "name": "stderr",
     "output_type": "stream",
     "text": [
      "Processing frames: 100%|█████████▉| 1470/1471 [00:13<00:00, 108.71it/s]\n"
     ]
    },
    {
     "name": "stdout",
     "output_type": "stream",
     "text": [
      "\n",
      "Position data saved to /Users/sienajobson/Desktop/MSc Neuroaesthetics/research project/videos30/IEW10191_drawing_2_e2_4_Y_30.csv\n",
      " Appended data to existing master file: second_pass.csv\n"
     ]
    },
    {
     "name": "stderr",
     "output_type": "stream",
     "text": [
      "Processing frames: 100%|█████████▉| 1470/1471 [00:11<00:00, 127.39it/s]\n"
     ]
    },
    {
     "name": "stdout",
     "output_type": "stream",
     "text": [
      "\n",
      "Position data saved to /Users/sienajobson/Desktop/MSc Neuroaesthetics/research project/videos30/IEW10191_drawing_2_e3_2_G_30.csv\n",
      " Appended data to existing master file: second_pass.csv\n"
     ]
    },
    {
     "name": "stderr",
     "output_type": "stream",
     "text": [
      "Processing frames: 100%|█████████▉| 1470/1471 [00:12<00:00, 114.09it/s]\n"
     ]
    },
    {
     "name": "stdout",
     "output_type": "stream",
     "text": [
      "\n",
      "Position data saved to /Users/sienajobson/Desktop/MSc Neuroaesthetics/research project/videos30/IEW10191_drawing_2_e4_3_G_30.csv\n",
      " Appended data to existing master file: second_pass.csv\n"
     ]
    },
    {
     "name": "stderr",
     "output_type": "stream",
     "text": [
      "Processing frames: 100%|█████████▉| 1260/1261 [00:09<00:00, 133.61it/s]\n"
     ]
    },
    {
     "name": "stdout",
     "output_type": "stream",
     "text": [
      "\n",
      "Position data saved to /Users/sienajobson/Desktop/MSc Neuroaesthetics/research project/videos30/IME10192_drawing_2_e1_2_G_30.csv\n",
      " Appended data to existing master file: second_pass.csv\n"
     ]
    },
    {
     "name": "stderr",
     "output_type": "stream",
     "text": [
      "Processing frames: 100%|█████████▉| 1260/1261 [00:12<00:00, 100.71it/s]\n"
     ]
    },
    {
     "name": "stdout",
     "output_type": "stream",
     "text": [
      "\n",
      "Position data saved to /Users/sienajobson/Desktop/MSc Neuroaesthetics/research project/videos30/IME10192_drawing_2_e2_4_Y_30.csv\n",
      " Appended data to existing master file: second_pass.csv\n"
     ]
    },
    {
     "name": "stderr",
     "output_type": "stream",
     "text": [
      "Processing frames: 100%|█████████▉| 1260/1261 [00:11<00:00, 105.64it/s]\n"
     ]
    },
    {
     "name": "stdout",
     "output_type": "stream",
     "text": [
      "\n",
      "Position data saved to /Users/sienajobson/Desktop/MSc Neuroaesthetics/research project/videos30/IME10192_drawing_2_e3_1_G_30.csv\n",
      " Appended data to existing master file: second_pass.csv\n"
     ]
    },
    {
     "name": "stderr",
     "output_type": "stream",
     "text": [
      "Processing frames: 100%|█████████▉| 1260/1261 [00:10<00:00, 120.13it/s]\n"
     ]
    },
    {
     "name": "stdout",
     "output_type": "stream",
     "text": [
      "\n",
      "Position data saved to /Users/sienajobson/Desktop/MSc Neuroaesthetics/research project/videos30/IME10192_drawing_2_e4_3_G_30.csv\n",
      " Appended data to existing master file: second_pass.csv\n"
     ]
    },
    {
     "name": "stderr",
     "output_type": "stream",
     "text": [
      "Processing frames: 100%|█████████▉| 1320/1321 [00:12<00:00, 107.98it/s]\n"
     ]
    },
    {
     "name": "stdout",
     "output_type": "stream",
     "text": [
      "\n",
      "Position data saved to /Users/sienajobson/Desktop/MSc Neuroaesthetics/research project/videos30/IOB10251_drawing_2_e1_1_G_30.csv\n",
      " Appended data to existing master file: second_pass.csv\n"
     ]
    },
    {
     "name": "stderr",
     "output_type": "stream",
     "text": [
      "Processing frames: 100%|█████████▉| 1320/1321 [00:10<00:00, 126.94it/s]\n"
     ]
    },
    {
     "name": "stdout",
     "output_type": "stream",
     "text": [
      "\n",
      "Position data saved to /Users/sienajobson/Desktop/MSc Neuroaesthetics/research project/videos30/IOB10251_drawing_2_e2_3_G_30.csv\n",
      " Appended data to existing master file: second_pass.csv\n"
     ]
    },
    {
     "name": "stderr",
     "output_type": "stream",
     "text": [
      "Processing frames: 100%|█████████▉| 1320/1321 [00:10<00:00, 122.13it/s]\n"
     ]
    },
    {
     "name": "stdout",
     "output_type": "stream",
     "text": [
      "\n",
      "Position data saved to /Users/sienajobson/Desktop/MSc Neuroaesthetics/research project/videos30/IOB10251_drawing_2_e3_4_R_30.csv\n",
      " Appended data to existing master file: second_pass.csv\n"
     ]
    },
    {
     "name": "stderr",
     "output_type": "stream",
     "text": [
      "Processing frames: 100%|█████████▉| 1320/1321 [00:09<00:00, 135.68it/s]\n"
     ]
    },
    {
     "name": "stdout",
     "output_type": "stream",
     "text": [
      "\n",
      "Position data saved to /Users/sienajobson/Desktop/MSc Neuroaesthetics/research project/videos30/IOB10251_drawing_2_e4_2_G_30.csv\n",
      " Appended data to existing master file: second_pass.csv\n"
     ]
    },
    {
     "name": "stderr",
     "output_type": "stream",
     "text": [
      "Processing frames: 100%|█████████▉| 1380/1381 [00:10<00:00, 131.17it/s]\n"
     ]
    },
    {
     "name": "stdout",
     "output_type": "stream",
     "text": [
      "\n",
      "Position data saved to /Users/sienajobson/Desktop/MSc Neuroaesthetics/research project/videos30/JUU10261_drawing_1_e1_4_G_30.csv\n",
      " Appended data to existing master file: second_pass.csv\n"
     ]
    },
    {
     "name": "stderr",
     "output_type": "stream",
     "text": [
      "Processing frames: 100%|█████████▉| 1380/1381 [00:10<00:00, 132.06it/s]\n"
     ]
    },
    {
     "name": "stdout",
     "output_type": "stream",
     "text": [
      "\n",
      "Position data saved to /Users/sienajobson/Desktop/MSc Neuroaesthetics/research project/videos30/JUU10261_drawing_1_e2_3_G_30.csv\n",
      " Appended data to existing master file: second_pass.csv\n"
     ]
    },
    {
     "name": "stderr",
     "output_type": "stream",
     "text": [
      "Processing frames: 100%|█████████▉| 1380/1381 [00:10<00:00, 130.70it/s]\n"
     ]
    },
    {
     "name": "stdout",
     "output_type": "stream",
     "text": [
      "\n",
      "Position data saved to /Users/sienajobson/Desktop/MSc Neuroaesthetics/research project/videos30/JUU10261_drawing_1_e3_2_G_30.csv\n",
      " Appended data to existing master file: second_pass.csv\n"
     ]
    },
    {
     "name": "stderr",
     "output_type": "stream",
     "text": [
      "Processing frames: 100%|█████████▉| 1380/1381 [00:11<00:00, 120.65it/s]\n"
     ]
    },
    {
     "name": "stdout",
     "output_type": "stream",
     "text": [
      "\n",
      "Position data saved to /Users/sienajobson/Desktop/MSc Neuroaesthetics/research project/videos30/JUU10261_drawing_1_e4_1_Y_30.csv\n",
      " Appended data to existing master file: second_pass.csv\n"
     ]
    },
    {
     "name": "stderr",
     "output_type": "stream",
     "text": [
      "Processing frames: 100%|█████████▉| 930/931 [00:08<00:00, 113.94it/s]\n"
     ]
    },
    {
     "name": "stdout",
     "output_type": "stream",
     "text": [
      "\n",
      "Position data saved to /Users/sienajobson/Desktop/MSc Neuroaesthetics/research project/videos30/KOO11021_drawing_1_e1_2_G_30.csv\n",
      " Appended data to existing master file: second_pass.csv\n"
     ]
    },
    {
     "name": "stderr",
     "output_type": "stream",
     "text": [
      "Processing frames: 100%|█████████▉| 930/931 [00:07<00:00, 122.78it/s]\n"
     ]
    },
    {
     "name": "stdout",
     "output_type": "stream",
     "text": [
      "\n",
      "Position data saved to /Users/sienajobson/Desktop/MSc Neuroaesthetics/research project/videos30/KOO11021_drawing_1_e2_4_G_30.csv\n",
      " Appended data to existing master file: second_pass.csv\n"
     ]
    },
    {
     "name": "stderr",
     "output_type": "stream",
     "text": [
      "Processing frames: 100%|█████████▉| 930/931 [00:08<00:00, 107.40it/s]\n"
     ]
    },
    {
     "name": "stdout",
     "output_type": "stream",
     "text": [
      "\n",
      "Position data saved to /Users/sienajobson/Desktop/MSc Neuroaesthetics/research project/videos30/KOO11021_drawing_1_e3_1_R_30.csv\n",
      " Appended data to existing master file: second_pass.csv\n"
     ]
    },
    {
     "name": "stderr",
     "output_type": "stream",
     "text": [
      "Processing frames: 100%|█████████▉| 929/931 [00:07<00:00, 126.71it/s]\n"
     ]
    },
    {
     "name": "stdout",
     "output_type": "stream",
     "text": [
      "\n",
      "Position data saved to /Users/sienajobson/Desktop/MSc Neuroaesthetics/research project/videos30/KOO11021_drawing_1_e4_3_G_30.csv\n",
      " Appended data to existing master file: second_pass.csv\n"
     ]
    },
    {
     "name": "stderr",
     "output_type": "stream",
     "text": [
      "Processing frames: 100%|█████████▉| 1200/1201 [00:11<00:00, 108.75it/s]\n"
     ]
    },
    {
     "name": "stdout",
     "output_type": "stream",
     "text": [
      "\n",
      "Position data saved to /Users/sienajobson/Desktop/MSc Neuroaesthetics/research project/videos30/KUX11022_drawing_2_e1_4_Y_30.csv\n",
      " Appended data to existing master file: second_pass.csv\n"
     ]
    },
    {
     "name": "stderr",
     "output_type": "stream",
     "text": [
      "Processing frames: 100%|█████████▉| 1200/1201 [00:11<00:00, 108.18it/s]\n"
     ]
    },
    {
     "name": "stdout",
     "output_type": "stream",
     "text": [
      "\n",
      "Position data saved to /Users/sienajobson/Desktop/MSc Neuroaesthetics/research project/videos30/KUX11022_drawing_2_e2_3_Y_30.csv\n",
      " Appended data to existing master file: second_pass.csv\n"
     ]
    },
    {
     "name": "stderr",
     "output_type": "stream",
     "text": [
      "Processing frames: 100%|█████████▉| 1200/1201 [00:09<00:00, 125.35it/s]\n"
     ]
    },
    {
     "name": "stdout",
     "output_type": "stream",
     "text": [
      "\n",
      "Position data saved to /Users/sienajobson/Desktop/MSc Neuroaesthetics/research project/videos30/KUX11022_drawing_2_e3_2_G_30.csv\n",
      " Appended data to existing master file: second_pass.csv\n"
     ]
    },
    {
     "name": "stderr",
     "output_type": "stream",
     "text": [
      "Processing frames: 100%|█████████▉| 1200/1201 [00:10<00:00, 109.37it/s]\n"
     ]
    },
    {
     "name": "stdout",
     "output_type": "stream",
     "text": [
      "\n",
      "Position data saved to /Users/sienajobson/Desktop/MSc Neuroaesthetics/research project/videos30/KUX11022_drawing_2_e4_1_Y_30.csv\n",
      " Appended data to existing master file: second_pass.csv\n"
     ]
    },
    {
     "name": "stderr",
     "output_type": "stream",
     "text": [
      "Processing frames: 100%|█████████▉| 1440/1441 [00:10<00:00, 133.01it/s]\n"
     ]
    },
    {
     "name": "stdout",
     "output_type": "stream",
     "text": [
      "\n",
      "Position data saved to /Users/sienajobson/Desktop/MSc Neuroaesthetics/research project/videos30/KVU11031_drawing_1_e1_3_G_30.csv\n",
      " Appended data to existing master file: second_pass.csv\n"
     ]
    },
    {
     "name": "stderr",
     "output_type": "stream",
     "text": [
      "Processing frames: 100%|█████████▉| 1440/1441 [00:13<00:00, 109.63it/s]\n"
     ]
    },
    {
     "name": "stdout",
     "output_type": "stream",
     "text": [
      "\n",
      "Position data saved to /Users/sienajobson/Desktop/MSc Neuroaesthetics/research project/videos30/KVU11031_drawing_1_e2_2_G_30.csv\n",
      " Appended data to existing master file: second_pass.csv\n"
     ]
    },
    {
     "name": "stderr",
     "output_type": "stream",
     "text": [
      "Processing frames: 100%|█████████▉| 1440/1441 [00:11<00:00, 124.60it/s]\n"
     ]
    },
    {
     "name": "stdout",
     "output_type": "stream",
     "text": [
      "\n",
      "Position data saved to /Users/sienajobson/Desktop/MSc Neuroaesthetics/research project/videos30/KVU11031_drawing_1_e3_1_G_30.csv\n",
      " Appended data to existing master file: second_pass.csv\n"
     ]
    },
    {
     "name": "stderr",
     "output_type": "stream",
     "text": [
      "Processing frames: 100%|█████████▉| 1440/1441 [00:11<00:00, 122.69it/s]\n"
     ]
    },
    {
     "name": "stdout",
     "output_type": "stream",
     "text": [
      "\n",
      "Position data saved to /Users/sienajobson/Desktop/MSc Neuroaesthetics/research project/videos30/KVU11031_drawing_1_e4_4_Y_30.csv\n",
      " Appended data to existing master file: second_pass.csv\n"
     ]
    },
    {
     "name": "stderr",
     "output_type": "stream",
     "text": [
      "Processing frames: 100%|█████████▉| 990/991 [00:07<00:00, 135.45it/s]\n"
     ]
    },
    {
     "name": "stdout",
     "output_type": "stream",
     "text": [
      "\n",
      "Position data saved to /Users/sienajobson/Desktop/MSc Neuroaesthetics/research project/videos30/LQI11041_drawing_2_e2_2_G_30.csv\n",
      " Appended data to existing master file: second_pass.csv\n"
     ]
    },
    {
     "name": "stderr",
     "output_type": "stream",
     "text": [
      "Processing frames: 100%|█████████▉| 989/991 [00:08<00:00, 123.19it/s]\n"
     ]
    },
    {
     "name": "stdout",
     "output_type": "stream",
     "text": [
      "\n",
      "Position data saved to /Users/sienajobson/Desktop/MSc Neuroaesthetics/research project/videos30/LQI11041_drawing_2_e3_1_G_30.csv\n",
      " Appended data to existing master file: second_pass.csv\n"
     ]
    },
    {
     "name": "stderr",
     "output_type": "stream",
     "text": [
      "Processing frames: 100%|█████████▉| 990/991 [00:08<00:00, 112.24it/s]\n"
     ]
    },
    {
     "name": "stdout",
     "output_type": "stream",
     "text": [
      "\n",
      "Position data saved to /Users/sienajobson/Desktop/MSc Neuroaesthetics/research project/videos30/LQI11041_drawing_2_e4_4_G_30.csv\n",
      " Appended data to existing master file: second_pass.csv\n"
     ]
    },
    {
     "name": "stderr",
     "output_type": "stream",
     "text": [
      "Processing frames: 100%|█████████▉| 750/751 [00:06<00:00, 122.13it/s]\n"
     ]
    },
    {
     "name": "stdout",
     "output_type": "stream",
     "text": [
      "\n",
      "Position data saved to /Users/sienajobson/Desktop/MSc Neuroaesthetics/research project/videos30/MYE11042_drawing_1_e1_4_G_30.csv\n",
      " Appended data to existing master file: second_pass.csv\n"
     ]
    },
    {
     "name": "stderr",
     "output_type": "stream",
     "text": [
      "Processing frames: 100%|█████████▉| 750/751 [00:05<00:00, 132.08it/s]\n"
     ]
    },
    {
     "name": "stdout",
     "output_type": "stream",
     "text": [
      "\n",
      "Position data saved to /Users/sienajobson/Desktop/MSc Neuroaesthetics/research project/videos30/MYE11042_drawing_1_e2_2_G_30.csv\n",
      " Appended data to existing master file: second_pass.csv\n"
     ]
    },
    {
     "name": "stderr",
     "output_type": "stream",
     "text": [
      "Processing frames: 100%|█████████▉| 750/751 [00:06<00:00, 120.02it/s]\n"
     ]
    },
    {
     "name": "stdout",
     "output_type": "stream",
     "text": [
      "\n",
      "Position data saved to /Users/sienajobson/Desktop/MSc Neuroaesthetics/research project/videos30/MYE11042_drawing_1_e3_1_G_30.csv\n",
      " Appended data to existing master file: second_pass.csv\n"
     ]
    },
    {
     "name": "stderr",
     "output_type": "stream",
     "text": [
      "Processing frames: 100%|█████████▉| 750/751 [00:05<00:00, 129.29it/s]\n"
     ]
    },
    {
     "name": "stdout",
     "output_type": "stream",
     "text": [
      "\n",
      "Position data saved to /Users/sienajobson/Desktop/MSc Neuroaesthetics/research project/videos30/MYE11042_drawing_1_e4_3_G_30.csv\n",
      " Appended data to existing master file: second_pass.csv\n"
     ]
    },
    {
     "name": "stderr",
     "output_type": "stream",
     "text": [
      "Processing frames: 100%|█████████▉| 1290/1291 [00:10<00:00, 119.25it/s]\n"
     ]
    },
    {
     "name": "stdout",
     "output_type": "stream",
     "text": [
      "\n",
      "Position data saved to /Users/sienajobson/Desktop/MSc Neuroaesthetics/research project/videos30/NEM11081_drawing_1_e1_1_G_30.csv\n",
      " Appended data to existing master file: second_pass.csv\n"
     ]
    },
    {
     "name": "stderr",
     "output_type": "stream",
     "text": [
      "Processing frames: 100%|█████████▉| 1290/1291 [00:09<00:00, 134.93it/s]\n"
     ]
    },
    {
     "name": "stdout",
     "output_type": "stream",
     "text": [
      "\n",
      "Position data saved to /Users/sienajobson/Desktop/MSc Neuroaesthetics/research project/videos30/NEM11081_drawing_1_e2_3_G_30.csv\n",
      " Appended data to existing master file: second_pass.csv\n"
     ]
    },
    {
     "name": "stderr",
     "output_type": "stream",
     "text": [
      "Processing frames: 100%|█████████▉| 1235/1237 [00:10<00:00, 115.10it/s]\n"
     ]
    },
    {
     "name": "stdout",
     "output_type": "stream",
     "text": [
      "\n",
      "Position data saved to /Users/sienajobson/Desktop/MSc Neuroaesthetics/research project/videos30/NEM11081_drawing_1_e3_4_R_30.csv\n",
      " Appended data to existing master file: second_pass.csv\n"
     ]
    },
    {
     "name": "stderr",
     "output_type": "stream",
     "text": [
      "Processing frames: 100%|█████████▉| 1290/1291 [00:10<00:00, 117.28it/s]\n"
     ]
    },
    {
     "name": "stdout",
     "output_type": "stream",
     "text": [
      "\n",
      "Position data saved to /Users/sienajobson/Desktop/MSc Neuroaesthetics/research project/videos30/NEM11081_drawing_1_e4_2_G_30.csv\n",
      " Appended data to existing master file: second_pass.csv\n"
     ]
    },
    {
     "name": "stderr",
     "output_type": "stream",
     "text": [
      "Processing frames: 100%|█████████▉| 1560/1561 [00:10<00:00, 145.17it/s]\n"
     ]
    },
    {
     "name": "stdout",
     "output_type": "stream",
     "text": [
      "\n",
      "Position data saved to /Users/sienajobson/Desktop/MSc Neuroaesthetics/research project/videos30/OAY11091_drawing_2_e1_1_G_30.csv\n",
      " Appended data to existing master file: second_pass.csv\n"
     ]
    },
    {
     "name": "stderr",
     "output_type": "stream",
     "text": [
      "Processing frames: 100%|█████████▉| 1560/1561 [00:12<00:00, 126.80it/s]\n"
     ]
    },
    {
     "name": "stdout",
     "output_type": "stream",
     "text": [
      "\n",
      "Position data saved to /Users/sienajobson/Desktop/MSc Neuroaesthetics/research project/videos30/OAY11091_drawing_2_e2_4_Y_30.csv\n",
      " Appended data to existing master file: second_pass.csv\n"
     ]
    },
    {
     "name": "stderr",
     "output_type": "stream",
     "text": [
      "Processing frames: 100%|█████████▉| 1560/1561 [00:11<00:00, 133.58it/s]\n"
     ]
    },
    {
     "name": "stdout",
     "output_type": "stream",
     "text": [
      "\n",
      "Position data saved to /Users/sienajobson/Desktop/MSc Neuroaesthetics/research project/videos30/OAY11091_drawing_2_e3_3_G_30.csv\n",
      " Appended data to existing master file: second_pass.csv\n"
     ]
    },
    {
     "name": "stderr",
     "output_type": "stream",
     "text": [
      "Processing frames: 100%|█████████▉| 1560/1561 [00:13<00:00, 119.94it/s]\n"
     ]
    },
    {
     "name": "stdout",
     "output_type": "stream",
     "text": [
      "\n",
      "Position data saved to /Users/sienajobson/Desktop/MSc Neuroaesthetics/research project/videos30/OAY11091_drawing_2_e4_2_G_30.csv\n",
      " Appended data to existing master file: second_pass.csv\n"
     ]
    },
    {
     "name": "stderr",
     "output_type": "stream",
     "text": [
      "Processing frames: 100%|█████████▉| 600/601 [00:05<00:00, 113.93it/s]\n"
     ]
    },
    {
     "name": "stdout",
     "output_type": "stream",
     "text": [
      "\n",
      "Position data saved to /Users/sienajobson/Desktop/MSc Neuroaesthetics/research project/videos30/OEW11092_drawing_1_e1_4_R_30.csv\n",
      " Appended data to existing master file: second_pass.csv\n"
     ]
    },
    {
     "name": "stderr",
     "output_type": "stream",
     "text": [
      "Processing frames: 100%|█████████▉| 600/601 [00:04<00:00, 131.47it/s]\n"
     ]
    },
    {
     "name": "stdout",
     "output_type": "stream",
     "text": [
      "\n",
      "Position data saved to /Users/sienajobson/Desktop/MSc Neuroaesthetics/research project/videos30/OEW11092_drawing_1_e2_2_G_30.csv\n",
      " Appended data to existing master file: second_pass.csv\n"
     ]
    },
    {
     "name": "stderr",
     "output_type": "stream",
     "text": [
      "Processing frames: 100%|█████████▉| 600/601 [00:06<00:00, 90.01it/s] \n"
     ]
    },
    {
     "name": "stdout",
     "output_type": "stream",
     "text": [
      "\n",
      "Position data saved to /Users/sienajobson/Desktop/MSc Neuroaesthetics/research project/videos30/OEW11092_drawing_1_e3_3_R_30.csv\n",
      " Appended data to existing master file: second_pass.csv\n"
     ]
    },
    {
     "name": "stderr",
     "output_type": "stream",
     "text": [
      "Processing frames: 100%|█████████▉| 600/601 [00:05<00:00, 113.43it/s]\n"
     ]
    },
    {
     "name": "stdout",
     "output_type": "stream",
     "text": [
      "\n",
      "Position data saved to /Users/sienajobson/Desktop/MSc Neuroaesthetics/research project/videos30/OEW11092_drawing_1_e4_1_R_30.csv\n",
      " Appended data to existing master file: second_pass.csv\n"
     ]
    },
    {
     "name": "stderr",
     "output_type": "stream",
     "text": [
      "Processing frames: 100%|█████████▉| 1530/1531 [00:13<00:00, 117.02it/s]\n"
     ]
    },
    {
     "name": "stdout",
     "output_type": "stream",
     "text": [
      "\n",
      "Position data saved to /Users/sienajobson/Desktop/MSc Neuroaesthetics/research project/videos30/OJI11111_drawing_1_e1_2_G_30.csv\n",
      " Appended data to existing master file: second_pass.csv\n"
     ]
    },
    {
     "name": "stderr",
     "output_type": "stream",
     "text": [
      "Processing frames: 100%|█████████▉| 1530/1531 [00:13<00:00, 117.51it/s]\n"
     ]
    },
    {
     "name": "stdout",
     "output_type": "stream",
     "text": [
      "\n",
      "Position data saved to /Users/sienajobson/Desktop/MSc Neuroaesthetics/research project/videos30/OJI11111_drawing_1_e2_4_Y_30.csv\n",
      " Appended data to existing master file: second_pass.csv\n"
     ]
    },
    {
     "name": "stderr",
     "output_type": "stream",
     "text": [
      "Processing frames: 100%|█████████▉| 1530/1531 [00:13<00:00, 112.51it/s]\n"
     ]
    },
    {
     "name": "stdout",
     "output_type": "stream",
     "text": [
      "\n",
      "Position data saved to /Users/sienajobson/Desktop/MSc Neuroaesthetics/research project/videos30/OJI11111_drawing_1_e3_1_Y_30.csv\n",
      " Appended data to existing master file: second_pass.csv\n"
     ]
    },
    {
     "name": "stderr",
     "output_type": "stream",
     "text": [
      "Processing frames: 100%|█████████▉| 1530/1531 [00:13<00:00, 115.93it/s]\n"
     ]
    },
    {
     "name": "stdout",
     "output_type": "stream",
     "text": [
      "\n",
      "Position data saved to /Users/sienajobson/Desktop/MSc Neuroaesthetics/research project/videos30/OJI11111_drawing_1_e4_3_G_30.csv\n",
      " Appended data to existing master file: second_pass.csv\n"
     ]
    },
    {
     "name": "stderr",
     "output_type": "stream",
     "text": [
      "Processing frames: 100%|█████████▉| 840/841 [00:06<00:00, 137.63it/s]\n"
     ]
    },
    {
     "name": "stdout",
     "output_type": "stream",
     "text": [
      "\n",
      "Position data saved to /Users/sienajobson/Desktop/MSc Neuroaesthetics/research project/videos30/OZJ11112_drawing_2_e1_1_G_30.csv\n",
      " Appended data to existing master file: second_pass.csv\n"
     ]
    },
    {
     "name": "stderr",
     "output_type": "stream",
     "text": [
      "Processing frames:  97%|█████████▋| 839/868 [00:05<00:00, 144.57it/s]\n"
     ]
    },
    {
     "name": "stdout",
     "output_type": "stream",
     "text": [
      "\n",
      "Position data saved to /Users/sienajobson/Desktop/MSc Neuroaesthetics/research project/videos30/OZJ11112_drawing_2_e2_2_G_30.csv\n",
      " Appended data to existing master file: second_pass.csv\n"
     ]
    },
    {
     "name": "stderr",
     "output_type": "stream",
     "text": [
      "Processing frames: 100%|█████████▉| 840/841 [00:06<00:00, 127.28it/s]\n"
     ]
    },
    {
     "name": "stdout",
     "output_type": "stream",
     "text": [
      "\n",
      "Position data saved to /Users/sienajobson/Desktop/MSc Neuroaesthetics/research project/videos30/OZJ11112_drawing_2_e3_4_G_30.csv\n",
      " Appended data to existing master file: second_pass.csv\n"
     ]
    },
    {
     "name": "stderr",
     "output_type": "stream",
     "text": [
      "Processing frames: 100%|█████████▉| 840/841 [00:06<00:00, 138.16it/s]\n"
     ]
    },
    {
     "name": "stdout",
     "output_type": "stream",
     "text": [
      "\n",
      "Position data saved to /Users/sienajobson/Desktop/MSc Neuroaesthetics/research project/videos30/OZJ11112_drawing_2_e4_3_G_30.csv\n",
      " Appended data to existing master file: second_pass.csv\n"
     ]
    },
    {
     "name": "stderr",
     "output_type": "stream",
     "text": [
      "Processing frames: 100%|█████████▉| 1050/1051 [00:07<00:00, 133.95it/s]\n"
     ]
    },
    {
     "name": "stdout",
     "output_type": "stream",
     "text": [
      "\n",
      "Position data saved to /Users/sienajobson/Desktop/MSc Neuroaesthetics/research project/videos30/PMU11161_drawing_2_e1_2_G_30.csv\n",
      " Appended data to existing master file: second_pass.csv\n"
     ]
    },
    {
     "name": "stderr",
     "output_type": "stream",
     "text": [
      "Processing frames: 100%|█████████▉| 1050/1051 [00:07<00:00, 138.68it/s]\n"
     ]
    },
    {
     "name": "stdout",
     "output_type": "stream",
     "text": [
      "\n",
      "Position data saved to /Users/sienajobson/Desktop/MSc Neuroaesthetics/research project/videos30/PMU11161_drawing_2_e2_3_G_30.csv\n",
      " Appended data to existing master file: second_pass.csv\n"
     ]
    },
    {
     "name": "stderr",
     "output_type": "stream",
     "text": [
      "Processing frames: 100%|█████████▉| 1050/1051 [00:08<00:00, 130.88it/s]\n"
     ]
    },
    {
     "name": "stdout",
     "output_type": "stream",
     "text": [
      "\n",
      "Position data saved to /Users/sienajobson/Desktop/MSc Neuroaesthetics/research project/videos30/PMU11161_drawing_2_e3_1_Y_30.csv\n",
      " Appended data to existing master file: second_pass.csv\n"
     ]
    },
    {
     "name": "stderr",
     "output_type": "stream",
     "text": [
      "Processing frames: 100%|█████████▉| 1050/1051 [00:07<00:00, 132.37it/s]\n"
     ]
    },
    {
     "name": "stdout",
     "output_type": "stream",
     "text": [
      "\n",
      "Position data saved to /Users/sienajobson/Desktop/MSc Neuroaesthetics/research project/videos30/PMU11161_drawing_2_e4_4_R_30.csv\n",
      " Appended data to existing master file: second_pass.csv\n"
     ]
    },
    {
     "name": "stderr",
     "output_type": "stream",
     "text": [
      "Processing frames: 100%|█████████▉| 1260/1261 [00:09<00:00, 131.76it/s]\n"
     ]
    },
    {
     "name": "stdout",
     "output_type": "stream",
     "text": [
      "\n",
      "Position data saved to /Users/sienajobson/Desktop/MSc Neuroaesthetics/research project/videos30/QOC11221_drawing_2_e1_4_Y_30.csv\n",
      " Appended data to existing master file: second_pass.csv\n"
     ]
    },
    {
     "name": "stderr",
     "output_type": "stream",
     "text": [
      "Processing frames: 100%|█████████▉| 1260/1261 [00:09<00:00, 136.73it/s]\n"
     ]
    },
    {
     "name": "stdout",
     "output_type": "stream",
     "text": [
      "\n",
      "Position data saved to /Users/sienajobson/Desktop/MSc Neuroaesthetics/research project/videos30/QOC11221_drawing_2_e2_1_G_30.csv\n",
      " Appended data to existing master file: second_pass.csv\n"
     ]
    },
    {
     "name": "stderr",
     "output_type": "stream",
     "text": [
      "Processing frames: 100%|█████████▉| 1260/1261 [00:09<00:00, 136.06it/s]\n"
     ]
    },
    {
     "name": "stdout",
     "output_type": "stream",
     "text": [
      "\n",
      "Position data saved to /Users/sienajobson/Desktop/MSc Neuroaesthetics/research project/videos30/QOC11221_drawing_2_e3_2_G_30.csv\n",
      " Appended data to existing master file: second_pass.csv\n"
     ]
    },
    {
     "name": "stderr",
     "output_type": "stream",
     "text": [
      "Processing frames: 100%|█████████▉| 1260/1261 [00:08<00:00, 150.46it/s]\n"
     ]
    },
    {
     "name": "stdout",
     "output_type": "stream",
     "text": [
      "\n",
      "Position data saved to /Users/sienajobson/Desktop/MSc Neuroaesthetics/research project/videos30/QOC11221_drawing_2_e4_3_G_30.csv\n",
      " Appended data to existing master file: second_pass.csv\n"
     ]
    },
    {
     "name": "stderr",
     "output_type": "stream",
     "text": [
      "Processing frames: 100%|█████████▉| 1530/1531 [00:11<00:00, 135.94it/s]\n"
     ]
    },
    {
     "name": "stdout",
     "output_type": "stream",
     "text": [
      "\n",
      "Position data saved to /Users/sienajobson/Desktop/MSc Neuroaesthetics/research project/videos30/RJO11222_drawing_2_e1_4_Y_30.csv\n",
      " Appended data to existing master file: second_pass.csv\n"
     ]
    },
    {
     "name": "stderr",
     "output_type": "stream",
     "text": [
      "Processing frames: 100%|█████████▉| 1530/1531 [00:12<00:00, 125.22it/s]\n"
     ]
    },
    {
     "name": "stdout",
     "output_type": "stream",
     "text": [
      "\n",
      "Position data saved to /Users/sienajobson/Desktop/MSc Neuroaesthetics/research project/videos30/RJO11222_drawing_2_e2_2_G_30.csv\n",
      " Appended data to existing master file: second_pass.csv\n"
     ]
    },
    {
     "name": "stderr",
     "output_type": "stream",
     "text": [
      "Processing frames: 100%|█████████▉| 1530/1531 [00:11<00:00, 130.24it/s]\n"
     ]
    },
    {
     "name": "stdout",
     "output_type": "stream",
     "text": [
      "\n",
      "Position data saved to /Users/sienajobson/Desktop/MSc Neuroaesthetics/research project/videos30/RJO11222_drawing_2_e3_1_G_30.csv\n",
      " Appended data to existing master file: second_pass.csv\n"
     ]
    },
    {
     "name": "stderr",
     "output_type": "stream",
     "text": [
      "Processing frames: 100%|█████████▉| 1530/1531 [00:12<00:00, 120.48it/s]\n"
     ]
    },
    {
     "name": "stdout",
     "output_type": "stream",
     "text": [
      "\n",
      "Position data saved to /Users/sienajobson/Desktop/MSc Neuroaesthetics/research project/videos30/RJO11222_drawing_2_e4_3_G_30.csv\n",
      " Appended data to existing master file: second_pass.csv\n"
     ]
    },
    {
     "name": "stderr",
     "output_type": "stream",
     "text": [
      "Processing frames: 100%|█████████▉| 1438/1439 [00:11<00:00, 121.94it/s]\n"
     ]
    },
    {
     "name": "stdout",
     "output_type": "stream",
     "text": [
      "\n",
      "Position data saved to /Users/sienajobson/Desktop/MSc Neuroaesthetics/research project/videos30/SBA11302_drawing_2_e2_3_G_30.csv\n",
      " Appended data to existing master file: second_pass.csv\n"
     ]
    },
    {
     "name": "stderr",
     "output_type": "stream",
     "text": [
      "Processing frames: 100%|█████████▉| 1438/1439 [00:13<00:00, 107.82it/s]\n"
     ]
    },
    {
     "name": "stdout",
     "output_type": "stream",
     "text": [
      "\n",
      "Position data saved to /Users/sienajobson/Desktop/MSc Neuroaesthetics/research project/videos30/SBA11302_drawing_2_e3_4_Y_30.csv\n",
      " Appended data to existing master file: second_pass.csv\n"
     ]
    },
    {
     "name": "stderr",
     "output_type": "stream",
     "text": [
      "Processing frames: 100%|█████████▉| 1439/1440 [00:11<00:00, 127.91it/s]\n"
     ]
    },
    {
     "name": "stdout",
     "output_type": "stream",
     "text": [
      "\n",
      "Position data saved to /Users/sienajobson/Desktop/MSc Neuroaesthetics/research project/videos30/SBA11302_drawing_2_e4_2_G_30.csv\n",
      " Appended data to existing master file: second_pass.csv\n"
     ]
    },
    {
     "name": "stderr",
     "output_type": "stream",
     "text": [
      "Processing frames: 100%|█████████▉| 1050/1051 [00:08<00:00, 127.72it/s]\n"
     ]
    },
    {
     "name": "stdout",
     "output_type": "stream",
     "text": [
      "\n",
      "Position data saved to /Users/sienajobson/Desktop/MSc Neuroaesthetics/research project/videos30/TEJ12071_drawing_1_e1_1_R_30.csv\n",
      " Appended data to existing master file: second_pass.csv\n"
     ]
    },
    {
     "name": "stderr",
     "output_type": "stream",
     "text": [
      "Processing frames: 100%|█████████▉| 1050/1051 [00:10<00:00, 104.49it/s]\n"
     ]
    },
    {
     "name": "stdout",
     "output_type": "stream",
     "text": [
      "\n",
      "Position data saved to /Users/sienajobson/Desktop/MSc Neuroaesthetics/research project/videos30/TEJ12071_drawing_1_e2_3_G_30.csv\n",
      " Appended data to existing master file: second_pass.csv\n"
     ]
    },
    {
     "name": "stderr",
     "output_type": "stream",
     "text": [
      "Processing frames: 100%|█████████▉| 1050/1051 [00:08<00:00, 125.30it/s]\n"
     ]
    },
    {
     "name": "stdout",
     "output_type": "stream",
     "text": [
      "\n",
      "Position data saved to /Users/sienajobson/Desktop/MSc Neuroaesthetics/research project/videos30/TEJ12071_drawing_1_e3_4_Y_30.csv\n",
      " Appended data to existing master file: second_pass.csv\n"
     ]
    },
    {
     "name": "stderr",
     "output_type": "stream",
     "text": [
      "Processing frames: 100%|█████████▉| 1050/1051 [00:08<00:00, 123.26it/s]\n"
     ]
    },
    {
     "name": "stdout",
     "output_type": "stream",
     "text": [
      "\n",
      "Position data saved to /Users/sienajobson/Desktop/MSc Neuroaesthetics/research project/videos30/TEJ12071_drawing_1_e4_2_G_30.csv\n",
      " Appended data to existing master file: second_pass.csv\n"
     ]
    },
    {
     "name": "stderr",
     "output_type": "stream",
     "text": [
      "Processing frames: 100%|█████████▉| 899/900 [00:12<00:00, 74.02it/s] \n"
     ]
    },
    {
     "name": "stdout",
     "output_type": "stream",
     "text": [
      "\n",
      "Position data saved to /Users/sienajobson/Desktop/MSc Neuroaesthetics/research project/videos30/TEO12091_drawing_2_e1_2_G_30.csv\n",
      " Appended data to existing master file: second_pass.csv\n"
     ]
    },
    {
     "name": "stderr",
     "output_type": "stream",
     "text": [
      "Processing frames: 100%|█████████▉| 899/900 [00:08<00:00, 111.03it/s]\n"
     ]
    },
    {
     "name": "stdout",
     "output_type": "stream",
     "text": [
      "\n",
      "Position data saved to /Users/sienajobson/Desktop/MSc Neuroaesthetics/research project/videos30/TEO12091_drawing_2_e2_3_G_30.csv\n",
      " Appended data to existing master file: second_pass.csv\n"
     ]
    },
    {
     "name": "stderr",
     "output_type": "stream",
     "text": [
      "Processing frames: 100%|█████████▉| 899/900 [00:06<00:00, 137.01it/s]\n"
     ]
    },
    {
     "name": "stdout",
     "output_type": "stream",
     "text": [
      "\n",
      "Position data saved to /Users/sienajobson/Desktop/MSc Neuroaesthetics/research project/videos30/TEO12091_drawing_2_e3_4_G_30.csv\n",
      " Appended data to existing master file: second_pass.csv\n"
     ]
    },
    {
     "name": "stderr",
     "output_type": "stream",
     "text": [
      "Processing frames: 100%|█████████▉| 899/900 [00:07<00:00, 115.46it/s]\n"
     ]
    },
    {
     "name": "stdout",
     "output_type": "stream",
     "text": [
      "\n",
      "Position data saved to /Users/sienajobson/Desktop/MSc Neuroaesthetics/research project/videos30/TEO12091_drawing_2_e4_1_G_30.csv\n",
      " Appended data to existing master file: second_pass.csv\n"
     ]
    },
    {
     "name": "stderr",
     "output_type": "stream",
     "text": [
      "Processing frames: 100%|█████████▉| 1110/1111 [00:09<00:00, 115.10it/s]\n"
     ]
    },
    {
     "name": "stdout",
     "output_type": "stream",
     "text": [
      "\n",
      "Position data saved to /Users/sienajobson/Desktop/MSc Neuroaesthetics/research project/videos30/UAG12131_drawing_2_e1_2_G_30.csv\n",
      " Appended data to existing master file: second_pass.csv\n"
     ]
    },
    {
     "name": "stderr",
     "output_type": "stream",
     "text": [
      "Processing frames: 100%|█████████▉| 1110/1111 [00:10<00:00, 106.20it/s]\n"
     ]
    },
    {
     "name": "stdout",
     "output_type": "stream",
     "text": [
      "\n",
      "Position data saved to /Users/sienajobson/Desktop/MSc Neuroaesthetics/research project/videos30/UAG12131_drawing_2_e2_1_R_30.csv\n",
      " Appended data to existing master file: second_pass.csv\n"
     ]
    },
    {
     "name": "stderr",
     "output_type": "stream",
     "text": [
      "Processing frames: 100%|█████████▉| 1110/1111 [00:12<00:00, 89.42it/s] \n"
     ]
    },
    {
     "name": "stdout",
     "output_type": "stream",
     "text": [
      "\n",
      "Position data saved to /Users/sienajobson/Desktop/MSc Neuroaesthetics/research project/videos30/UAG12131_drawing_2_e3_4_R_30.csv\n",
      " Appended data to existing master file: second_pass.csv\n"
     ]
    },
    {
     "name": "stderr",
     "output_type": "stream",
     "text": [
      "Processing frames: 100%|█████████▉| 1110/1111 [00:11<00:00, 99.48it/s] \n"
     ]
    },
    {
     "name": "stdout",
     "output_type": "stream",
     "text": [
      "\n",
      "Position data saved to /Users/sienajobson/Desktop/MSc Neuroaesthetics/research project/videos30/UAG12131_drawing_2_e4_3_G_30.csv\n",
      " Appended data to existing master file: second_pass.csv\n"
     ]
    },
    {
     "name": "stderr",
     "output_type": "stream",
     "text": [
      "Processing frames: 100%|█████████▉| 1170/1171 [00:10<00:00, 113.15it/s]\n"
     ]
    },
    {
     "name": "stdout",
     "output_type": "stream",
     "text": [
      "\n",
      "Position data saved to /Users/sienajobson/Desktop/MSc Neuroaesthetics/research project/videos30/UMX12132_drawing_1_e1_1_G_30.csv\n",
      " Appended data to existing master file: second_pass.csv\n"
     ]
    },
    {
     "name": "stderr",
     "output_type": "stream",
     "text": [
      "Processing frames: 100%|█████████▉| 1170/1171 [00:09<00:00, 120.92it/s]\n"
     ]
    },
    {
     "name": "stdout",
     "output_type": "stream",
     "text": [
      "\n",
      "Position data saved to /Users/sienajobson/Desktop/MSc Neuroaesthetics/research project/videos30/UMX12132_drawing_1_e2_3_G_30.csv\n",
      " Appended data to existing master file: second_pass.csv\n"
     ]
    },
    {
     "name": "stderr",
     "output_type": "stream",
     "text": [
      "Processing frames: 100%|█████████▉| 1170/1171 [00:10<00:00, 111.70it/s]\n"
     ]
    },
    {
     "name": "stdout",
     "output_type": "stream",
     "text": [
      "\n",
      "Position data saved to /Users/sienajobson/Desktop/MSc Neuroaesthetics/research project/videos30/UMX12132_drawing_1_e3_4_R_30.csv\n",
      " Appended data to existing master file: second_pass.csv\n"
     ]
    },
    {
     "name": "stderr",
     "output_type": "stream",
     "text": [
      "Processing frames: 100%|█████████▉| 1170/1171 [00:09<00:00, 122.64it/s]\n"
     ]
    },
    {
     "name": "stdout",
     "output_type": "stream",
     "text": [
      "\n",
      "Position data saved to /Users/sienajobson/Desktop/MSc Neuroaesthetics/research project/videos30/UMX12132_drawing_1_e4_2_G_30.csv\n",
      " Appended data to existing master file: second_pass.csv\n"
     ]
    },
    {
     "name": "stderr",
     "output_type": "stream",
     "text": [
      "Processing frames: 100%|█████████▉| 1230/1231 [00:08<00:00, 147.94it/s]\n"
     ]
    },
    {
     "name": "stdout",
     "output_type": "stream",
     "text": [
      "\n",
      "Position data saved to /Users/sienajobson/Desktop/MSc Neuroaesthetics/research project/videos30/USV12141_drawing_1_e1_3_G_30.csv\n",
      " Appended data to existing master file: second_pass.csv\n"
     ]
    },
    {
     "name": "stderr",
     "output_type": "stream",
     "text": [
      "Processing frames: 100%|█████████▉| 1230/1231 [00:08<00:00, 142.60it/s]\n"
     ]
    },
    {
     "name": "stdout",
     "output_type": "stream",
     "text": [
      "\n",
      "Position data saved to /Users/sienajobson/Desktop/MSc Neuroaesthetics/research project/videos30/USV12141_drawing_1_e2_1_G_30.csv\n",
      " Appended data to existing master file: second_pass.csv\n"
     ]
    },
    {
     "name": "stderr",
     "output_type": "stream",
     "text": [
      "Processing frames: 100%|█████████▉| 1230/1231 [00:09<00:00, 134.57it/s]\n"
     ]
    },
    {
     "name": "stdout",
     "output_type": "stream",
     "text": [
      "\n",
      "Position data saved to /Users/sienajobson/Desktop/MSc Neuroaesthetics/research project/videos30/USV12141_drawing_1_e3_4_G_30.csv\n",
      " Appended data to existing master file: second_pass.csv\n"
     ]
    },
    {
     "name": "stderr",
     "output_type": "stream",
     "text": [
      "Processing frames: 100%|█████████▉| 1230/1231 [00:09<00:00, 128.01it/s]\n"
     ]
    },
    {
     "name": "stdout",
     "output_type": "stream",
     "text": [
      "\n",
      "Position data saved to /Users/sienajobson/Desktop/MSc Neuroaesthetics/research project/videos30/USV12141_drawing_1_e4_2_G_30.csv\n",
      " Appended data to existing master file: second_pass.csv\n"
     ]
    },
    {
     "name": "stderr",
     "output_type": "stream",
     "text": [
      "Processing frames: 100%|█████████▉| 1170/1171 [00:11<00:00, 105.01it/s]\n"
     ]
    },
    {
     "name": "stdout",
     "output_type": "stream",
     "text": [
      "\n",
      "Position data saved to /Users/sienajobson/Desktop/MSc Neuroaesthetics/research project/videos30/UUL12161_drawing_1_e1_2_G_30.csv\n",
      " Appended data to existing master file: second_pass.csv\n"
     ]
    },
    {
     "name": "stderr",
     "output_type": "stream",
     "text": [
      "Processing frames: 100%|█████████▉| 1169/1170 [00:10<00:00, 112.05it/s]\n"
     ]
    },
    {
     "name": "stdout",
     "output_type": "stream",
     "text": [
      "\n",
      "Position data saved to /Users/sienajobson/Desktop/MSc Neuroaesthetics/research project/videos30/UUL12161_drawing_1_e2_4_R_30.csv\n",
      " Appended data to existing master file: second_pass.csv\n"
     ]
    },
    {
     "name": "stderr",
     "output_type": "stream",
     "text": [
      "Processing frames: 100%|█████████▉| 1170/1171 [00:08<00:00, 138.73it/s]\n"
     ]
    },
    {
     "name": "stdout",
     "output_type": "stream",
     "text": [
      "\n",
      "Position data saved to /Users/sienajobson/Desktop/MSc Neuroaesthetics/research project/videos30/UUL12161_drawing_1_e3_3_G_30.csv\n",
      " Appended data to existing master file: second_pass.csv\n"
     ]
    },
    {
     "name": "stderr",
     "output_type": "stream",
     "text": [
      "Processing frames: 100%|█████████▉| 1170/1171 [00:09<00:00, 127.11it/s]\n"
     ]
    },
    {
     "name": "stdout",
     "output_type": "stream",
     "text": [
      "\n",
      "Position data saved to /Users/sienajobson/Desktop/MSc Neuroaesthetics/research project/videos30/UUL12161_drawing_1_e4_1_Y_30.csv\n",
      " Appended data to existing master file: second_pass.csv\n"
     ]
    },
    {
     "name": "stderr",
     "output_type": "stream",
     "text": [
      "Processing frames: 100%|█████████▉| 1290/1291 [00:10<00:00, 120.38it/s]\n"
     ]
    },
    {
     "name": "stdout",
     "output_type": "stream",
     "text": [
      "\n",
      "Position data saved to /Users/sienajobson/Desktop/MSc Neuroaesthetics/research project/videos30/VIR12192_drawing_1_e1_4_Y_30.csv\n",
      " Appended data to existing master file: second_pass.csv\n"
     ]
    },
    {
     "name": "stderr",
     "output_type": "stream",
     "text": [
      "Processing frames: 100%|█████████▉| 1290/1291 [00:10<00:00, 128.86it/s]\n"
     ]
    },
    {
     "name": "stdout",
     "output_type": "stream",
     "text": [
      "\n",
      "Position data saved to /Users/sienajobson/Desktop/MSc Neuroaesthetics/research project/videos30/VIR12192_drawing_1_e2_2_G_30.csv\n",
      " Appended data to existing master file: second_pass.csv\n"
     ]
    },
    {
     "name": "stderr",
     "output_type": "stream",
     "text": [
      "Processing frames: 100%|█████████▉| 1290/1291 [00:10<00:00, 126.08it/s]\n"
     ]
    },
    {
     "name": "stdout",
     "output_type": "stream",
     "text": [
      "\n",
      "Position data saved to /Users/sienajobson/Desktop/MSc Neuroaesthetics/research project/videos30/VIR12192_drawing_1_e3_3_G_30.csv\n",
      " Appended data to existing master file: second_pass.csv\n"
     ]
    },
    {
     "name": "stderr",
     "output_type": "stream",
     "text": [
      "Processing frames: 100%|█████████▉| 1290/1291 [00:14<00:00, 91.48it/s] \n"
     ]
    },
    {
     "name": "stdout",
     "output_type": "stream",
     "text": [
      "\n",
      "Position data saved to /Users/sienajobson/Desktop/MSc Neuroaesthetics/research project/videos30/VIR12192_drawing_1_e4_1_G_30.csv\n",
      " Appended data to existing master file: second_pass.csv\n"
     ]
    },
    {
     "name": "stderr",
     "output_type": "stream",
     "text": [
      "Processing frames: 100%|█████████▉| 1200/1201 [00:12<00:00, 95.72it/s] \n"
     ]
    },
    {
     "name": "stdout",
     "output_type": "stream",
     "text": [
      "\n",
      "Position data saved to /Users/sienajobson/Desktop/MSc Neuroaesthetics/research project/videos30/VVO12201_drawing_1_e1_4_G_30.csv\n",
      " Appended data to existing master file: second_pass.csv\n"
     ]
    },
    {
     "name": "stderr",
     "output_type": "stream",
     "text": [
      "Processing frames: 100%|█████████▉| 1200/1201 [00:11<00:00, 107.06it/s]\n"
     ]
    },
    {
     "name": "stdout",
     "output_type": "stream",
     "text": [
      "\n",
      "Position data saved to /Users/sienajobson/Desktop/MSc Neuroaesthetics/research project/videos30/VVO12201_drawing_1_e2_1_Y_30.csv\n",
      " Appended data to existing master file: second_pass.csv\n"
     ]
    },
    {
     "name": "stderr",
     "output_type": "stream",
     "text": [
      "Processing frames: 100%|█████████▉| 1200/1201 [00:10<00:00, 114.60it/s]\n"
     ]
    },
    {
     "name": "stdout",
     "output_type": "stream",
     "text": [
      "\n",
      "Position data saved to /Users/sienajobson/Desktop/MSc Neuroaesthetics/research project/videos30/VVO12201_drawing_1_e3_3_G_30.csv\n",
      " Appended data to existing master file: second_pass.csv\n"
     ]
    },
    {
     "name": "stderr",
     "output_type": "stream",
     "text": [
      "Processing frames: 100%|█████████▉| 1200/1201 [00:11<00:00, 102.60it/s]\n"
     ]
    },
    {
     "name": "stdout",
     "output_type": "stream",
     "text": [
      "\n",
      "Position data saved to /Users/sienajobson/Desktop/MSc Neuroaesthetics/research project/videos30/VVO12201_drawing_1_e4_2_G_30.csv\n",
      " Appended data to existing master file: second_pass.csv\n"
     ]
    },
    {
     "name": "stderr",
     "output_type": "stream",
     "text": [
      "Processing frames: 100%|█████████▉| 1230/1231 [00:09<00:00, 128.73it/s]\n"
     ]
    },
    {
     "name": "stdout",
     "output_type": "stream",
     "text": [
      "\n",
      "Position data saved to /Users/sienajobson/Desktop/MSc Neuroaesthetics/research project/videos30/WOD21131_drawing_2_e1_3_G_30.csv\n",
      " Appended data to existing master file: second_pass.csv\n"
     ]
    },
    {
     "name": "stderr",
     "output_type": "stream",
     "text": [
      "Processing frames: 100%|█████████▉| 1230/1231 [00:11<00:00, 107.40it/s]\n"
     ]
    },
    {
     "name": "stdout",
     "output_type": "stream",
     "text": [
      "\n",
      "Position data saved to /Users/sienajobson/Desktop/MSc Neuroaesthetics/research project/videos30/WOD21131_drawing_2_e2_1_G_30.csv\n",
      " Appended data to existing master file: second_pass.csv\n"
     ]
    },
    {
     "name": "stderr",
     "output_type": "stream",
     "text": [
      "Processing frames: 100%|█████████▉| 1230/1231 [00:11<00:00, 105.37it/s]\n"
     ]
    },
    {
     "name": "stdout",
     "output_type": "stream",
     "text": [
      "\n",
      "Position data saved to /Users/sienajobson/Desktop/MSc Neuroaesthetics/research project/videos30/WOD21131_drawing_2_e3_2_Y_30.csv\n",
      " Appended data to existing master file: second_pass.csv\n"
     ]
    },
    {
     "name": "stderr",
     "output_type": "stream",
     "text": [
      "Processing frames: 100%|█████████▉| 1230/1231 [00:11<00:00, 102.99it/s]\n"
     ]
    },
    {
     "name": "stdout",
     "output_type": "stream",
     "text": [
      "\n",
      "Position data saved to /Users/sienajobson/Desktop/MSc Neuroaesthetics/research project/videos30/WOD21131_drawing_2_e4_4_R_30.csv\n",
      " Appended data to existing master file: second_pass.csv\n"
     ]
    },
    {
     "name": "stderr",
     "output_type": "stream",
     "text": [
      "Processing frames: 100%|█████████▉| 1200/1201 [00:15<00:00, 77.07it/s] \n"
     ]
    },
    {
     "name": "stdout",
     "output_type": "stream",
     "text": [
      "\n",
      "Position data saved to /Users/sienajobson/Desktop/MSc Neuroaesthetics/research project/videos30/XOO21181_drawing_2_e1_4_G_30.csv\n",
      " Appended data to existing master file: second_pass.csv\n"
     ]
    },
    {
     "name": "stderr",
     "output_type": "stream",
     "text": [
      "Processing frames: 100%|█████████▉| 1200/1201 [00:14<00:00, 83.63it/s] \n"
     ]
    },
    {
     "name": "stdout",
     "output_type": "stream",
     "text": [
      "\n",
      "Position data saved to /Users/sienajobson/Desktop/MSc Neuroaesthetics/research project/videos30/XOO21181_drawing_2_e2_3_G_30.csv\n",
      " Appended data to existing master file: second_pass.csv\n"
     ]
    },
    {
     "name": "stderr",
     "output_type": "stream",
     "text": [
      "Processing frames: 100%|█████████▉| 1200/1201 [00:09<00:00, 126.98it/s]\n"
     ]
    },
    {
     "name": "stdout",
     "output_type": "stream",
     "text": [
      "\n",
      "Position data saved to /Users/sienajobson/Desktop/MSc Neuroaesthetics/research project/videos30/XOO21181_drawing_2_e3_2_G_30.csv\n",
      " Appended data to existing master file: second_pass.csv\n"
     ]
    },
    {
     "name": "stderr",
     "output_type": "stream",
     "text": [
      "Processing frames: 100%|█████████▉| 1200/1201 [00:09<00:00, 121.44it/s]\n"
     ]
    },
    {
     "name": "stdout",
     "output_type": "stream",
     "text": [
      "\n",
      "Position data saved to /Users/sienajobson/Desktop/MSc Neuroaesthetics/research project/videos30/XOO21181_drawing_2_e4_1_G_30.csv\n",
      " Appended data to existing master file: second_pass.csv\n"
     ]
    },
    {
     "name": "stderr",
     "output_type": "stream",
     "text": [
      "Processing frames: 100%|█████████▉| 1140/1141 [00:08<00:00, 141.46it/s]\n"
     ]
    },
    {
     "name": "stdout",
     "output_type": "stream",
     "text": [
      "\n",
      "Position data saved to /Users/sienajobson/Desktop/MSc Neuroaesthetics/research project/videos30/XXE21241_drawing_2_e1_3_G_30.csv\n",
      " Appended data to existing master file: second_pass.csv\n"
     ]
    },
    {
     "name": "stderr",
     "output_type": "stream",
     "text": [
      "Processing frames: 100%|█████████▉| 1140/1141 [00:08<00:00, 140.47it/s]\n"
     ]
    },
    {
     "name": "stdout",
     "output_type": "stream",
     "text": [
      "\n",
      "Position data saved to /Users/sienajobson/Desktop/MSc Neuroaesthetics/research project/videos30/XXE21241_drawing_2_e2_1_Y_30.csv\n",
      " Appended data to existing master file: second_pass.csv\n"
     ]
    },
    {
     "name": "stderr",
     "output_type": "stream",
     "text": [
      "Processing frames: 100%|█████████▉| 1140/1141 [00:11<00:00, 95.80it/s]\n"
     ]
    },
    {
     "name": "stdout",
     "output_type": "stream",
     "text": [
      "\n",
      "Position data saved to /Users/sienajobson/Desktop/MSc Neuroaesthetics/research project/videos30/XXE21241_drawing_2_e3_2_G_30.csv\n",
      " Appended data to existing master file: second_pass.csv\n"
     ]
    },
    {
     "name": "stderr",
     "output_type": "stream",
     "text": [
      "Processing frames: 100%|█████████▉| 1140/1141 [00:12<00:00, 90.49it/s] \n"
     ]
    },
    {
     "name": "stdout",
     "output_type": "stream",
     "text": [
      "\n",
      "Position data saved to /Users/sienajobson/Desktop/MSc Neuroaesthetics/research project/videos30/XXE21241_drawing_2_e4_4_Y_30.csv\n",
      " Appended data to existing master file: second_pass.csv\n"
     ]
    },
    {
     "name": "stderr",
     "output_type": "stream",
     "text": [
      "Processing frames: 100%|█████████▉| 1680/1681 [00:16<00:00, 98.99it/s] \n"
     ]
    },
    {
     "name": "stdout",
     "output_type": "stream",
     "text": [
      "\n",
      "Position data saved to /Users/sienajobson/Desktop/MSc Neuroaesthetics/research project/videos30/YDI21271_drawing_2_e1_3_G_30.csv\n",
      " Appended data to existing master file: second_pass.csv\n"
     ]
    },
    {
     "name": "stderr",
     "output_type": "stream",
     "text": [
      "Processing frames: 100%|█████████▉| 1680/1681 [00:13<00:00, 122.22it/s]\n"
     ]
    },
    {
     "name": "stdout",
     "output_type": "stream",
     "text": [
      "\n",
      "Position data saved to /Users/sienajobson/Desktop/MSc Neuroaesthetics/research project/videos30/YDI21271_drawing_2_e2_4_Y_30.csv\n",
      " Appended data to existing master file: second_pass.csv\n"
     ]
    },
    {
     "name": "stderr",
     "output_type": "stream",
     "text": [
      "Processing frames: 100%|█████████▉| 1680/1681 [00:12<00:00, 133.27it/s]\n"
     ]
    },
    {
     "name": "stdout",
     "output_type": "stream",
     "text": [
      "\n",
      "Position data saved to /Users/sienajobson/Desktop/MSc Neuroaesthetics/research project/videos30/YDI21271_drawing_2_e3_2_G_30.csv\n",
      " Appended data to existing master file: second_pass.csv\n"
     ]
    },
    {
     "name": "stderr",
     "output_type": "stream",
     "text": [
      "Processing frames: 100%|█████████▉| 1680/1681 [00:18<00:00, 90.62it/s] \n"
     ]
    },
    {
     "name": "stdout",
     "output_type": "stream",
     "text": [
      "\n",
      "Position data saved to /Users/sienajobson/Desktop/MSc Neuroaesthetics/research project/videos30/YDI21271_drawing_2_e4_1_G_30.csv\n",
      " Appended data to existing master file: second_pass.csv\n"
     ]
    },
    {
     "name": "stderr",
     "output_type": "stream",
     "text": [
      "Processing frames: 100%|█████████▉| 1020/1021 [00:10<00:00, 98.20it/s] \n"
     ]
    },
    {
     "name": "stdout",
     "output_type": "stream",
     "text": [
      "\n",
      "Position data saved to /Users/sienajobson/Desktop/MSc Neuroaesthetics/research project/videos30/YYE21311_drawing_2_e1_2_G_30.csv\n",
      " Appended data to existing master file: second_pass.csv\n"
     ]
    },
    {
     "name": "stderr",
     "output_type": "stream",
     "text": [
      "Processing frames: 100%|█████████▉| 1020/1021 [00:08<00:00, 113.97it/s]\n"
     ]
    },
    {
     "name": "stdout",
     "output_type": "stream",
     "text": [
      "\n",
      "Position data saved to /Users/sienajobson/Desktop/MSc Neuroaesthetics/research project/videos30/YYE21311_drawing_2_e2_3_G_30.csv\n",
      " Appended data to existing master file: second_pass.csv\n"
     ]
    },
    {
     "name": "stderr",
     "output_type": "stream",
     "text": [
      "Processing frames: 100%|█████████▉| 1020/1021 [00:09<00:00, 108.10it/s]\n"
     ]
    },
    {
     "name": "stdout",
     "output_type": "stream",
     "text": [
      "\n",
      "Position data saved to /Users/sienajobson/Desktop/MSc Neuroaesthetics/research project/videos30/YYE21311_drawing_2_e3_4_Y_30.csv\n",
      " Appended data to existing master file: second_pass.csv\n"
     ]
    },
    {
     "name": "stderr",
     "output_type": "stream",
     "text": [
      "Processing frames: 100%|█████████▉| 1020/1021 [00:07<00:00, 129.80it/s]\n"
     ]
    },
    {
     "name": "stdout",
     "output_type": "stream",
     "text": [
      "\n",
      "Position data saved to /Users/sienajobson/Desktop/MSc Neuroaesthetics/research project/videos30/YYE21311_drawing_2_e4_1_G_30.csv\n",
      " Appended data to existing master file: second_pass.csv\n"
     ]
    },
    {
     "name": "stderr",
     "output_type": "stream",
     "text": [
      "Processing frames: 100%|█████████▉| 1380/1381 [00:10<00:00, 130.63it/s]\n"
     ]
    },
    {
     "name": "stdout",
     "output_type": "stream",
     "text": [
      "\n",
      "Position data saved to /Users/sienajobson/Desktop/MSc Neuroaesthetics/research project/videos30/ZEY21312_drawing_2_e1_3_Y_30.csv\n",
      " Appended data to existing master file: second_pass.csv\n"
     ]
    },
    {
     "name": "stderr",
     "output_type": "stream",
     "text": [
      "Processing frames: 100%|█████████▉| 1380/1381 [00:11<00:00, 115.96it/s]\n"
     ]
    },
    {
     "name": "stdout",
     "output_type": "stream",
     "text": [
      "\n",
      "Position data saved to /Users/sienajobson/Desktop/MSc Neuroaesthetics/research project/videos30/ZEY21312_drawing_2_e2_4_R_30.csv\n",
      " Appended data to existing master file: second_pass.csv\n"
     ]
    },
    {
     "name": "stderr",
     "output_type": "stream",
     "text": [
      "Processing frames: 100%|█████████▉| 1380/1381 [00:11<00:00, 123.55it/s]\n"
     ]
    },
    {
     "name": "stdout",
     "output_type": "stream",
     "text": [
      "\n",
      "Position data saved to /Users/sienajobson/Desktop/MSc Neuroaesthetics/research project/videos30/ZEY21312_drawing_2_e3_1_Y_30.csv\n",
      " Appended data to existing master file: second_pass.csv\n"
     ]
    },
    {
     "name": "stderr",
     "output_type": "stream",
     "text": [
      "Processing frames: 100%|█████████▉| 1380/1381 [00:10<00:00, 136.53it/s]\n"
     ]
    },
    {
     "name": "stdout",
     "output_type": "stream",
     "text": [
      "\n",
      "Position data saved to /Users/sienajobson/Desktop/MSc Neuroaesthetics/research project/videos30/ZEY21312_drawing_2_e4_2_G_30.csv\n",
      " Appended data to existing master file: second_pass.csv\n"
     ]
    },
    {
     "name": "stderr",
     "output_type": "stream",
     "text": [
      "Processing frames: 100%|█████████▉| 1740/1741 [00:12<00:00, 140.28it/s]\n"
     ]
    },
    {
     "name": "stdout",
     "output_type": "stream",
     "text": [
      "\n",
      "Position data saved to /Users/sienajobson/Desktop/MSc Neuroaesthetics/research project/videos30/ZNA22031_drawing_2_e1_1_G_30.csv\n",
      " Appended data to existing master file: second_pass.csv\n"
     ]
    },
    {
     "name": "stderr",
     "output_type": "stream",
     "text": [
      "Processing frames: 100%|█████████▉| 1740/1741 [00:14<00:00, 123.66it/s]\n"
     ]
    },
    {
     "name": "stdout",
     "output_type": "stream",
     "text": [
      "\n",
      "Position data saved to /Users/sienajobson/Desktop/MSc Neuroaesthetics/research project/videos30/ZNA22031_drawing_2_e2_4_R_30.csv\n",
      " Appended data to existing master file: second_pass.csv\n"
     ]
    },
    {
     "name": "stderr",
     "output_type": "stream",
     "text": [
      "Processing frames: 100%|█████████▉| 1740/1741 [00:14<00:00, 119.80it/s]\n"
     ]
    },
    {
     "name": "stdout",
     "output_type": "stream",
     "text": [
      "\n",
      "Position data saved to /Users/sienajobson/Desktop/MSc Neuroaesthetics/research project/videos30/ZNA22031_drawing_2_e3_2_G_30.csv\n",
      " Appended data to existing master file: second_pass.csv\n"
     ]
    },
    {
     "name": "stderr",
     "output_type": "stream",
     "text": [
      "Processing frames: 100%|█████████▉| 1740/1741 [00:12<00:00, 137.07it/s]"
     ]
    },
    {
     "name": "stdout",
     "output_type": "stream",
     "text": [
      "\n",
      "Position data saved to /Users/sienajobson/Desktop/MSc Neuroaesthetics/research project/videos30/ZNA22031_drawing_2_e4_3_G_30.csv\n",
      " Appended data to existing master file: second_pass.csv\n"
     ]
    },
    {
     "name": "stderr",
     "output_type": "stream",
     "text": [
      "\n"
     ]
    }
   ],
   "source": [
    "import cv2\n",
    "import numpy as np\n",
    "import pandas as pd\n",
    "import argparse\n",
    "import os\n",
    "import re\n",
    "import matplotlib.pyplot as plt\n",
    "from natsort import natsorted \n",
    "from scipy.fft import fft, fftfreq\n",
    "from numpy import diff, sqrt, arange, ceil, log2\n",
    "from scipy.ndimage import gaussian_filter1d\n",
    "    \n",
    "try:\n",
    "    from tqdm import tqdm\n",
    "except ImportError:\n",
    "    print(\"`pip install tqdm` to have a progress bar\")\n",
    "    def tqdm(iterable, *args, **kwargs):\n",
    "        for i, item in enumerate(iterable, 1):\n",
    "            print(f\"Processing item {i}/{len(iterable)}\")\n",
    "            yield item           \n",
    "            \n",
    "video_dir = \"/Users/sienajobson/Desktop/MSc Neuroaesthetics/research project/videos30/\"\n",
    "\n",
    "file_list = natsorted([f for f in os.listdir(video_dir) if f.endswith(\".mp4\")])\n",
    "\n",
    "for filename in file_list:\n",
    "    file_path = os.path.join(video_dir, filename)\n",
    "    parser = argparse.ArgumentParser()\n",
    "    parser.add_argument(\"--video\", type=str, help=\"video file path\", default=file_path)\n",
    "    parser.add_argument(\"--frame_thresh\", type=int, help=\"number of 'blank' frames before a new stroke\", default=5)\n",
    "    parser.add_argument(\"--distance_thresh\", type=float, help=\"distance thresh for a new stroke\", default=30)\n",
    "    parser.add_argument(\"--area_thresh\", type=float, help=\"area thresh for new point\", default=0.5)\n",
    "    parser.add_argument(\"-f\", type=str, help=\"Dummy argument for Jupyter compatibility\", default=\"\")\n",
    "    cfg = parser.parse_args()\n",
    "\n",
    "    cap = cv2.VideoCapture(cfg.video)\n",
    "    num_frames = int(cap.get(cv2.CAP_PROP_FRAME_COUNT))\n",
    "    frame_rate = cap.get(cv2.CAP_PROP_FPS)\n",
    "\n",
    "    # Hacky box for cropping  (approximate!)\n",
    "    l, t, r, b = 0, 20, 2000, 1800\n",
    "\n",
    "    def read_frame():\n",
    "        # Crops to the area we are interested in\n",
    "        ret, frame = cap.read()\n",
    "        if ret:\n",
    "            frame = frame[t:b, l:r, :]\n",
    "        return ret, frame\n",
    "\n",
    "    # Read the first frame\n",
    "    ret, prev_frame = read_frame()\n",
    "    if not ret:\n",
    "        print(\"Error: Unable to read video\")\n",
    "        cap.release()\n",
    "        raise(ValueError)\n",
    "\n",
    "    base_name = '.'.join(cfg.video.split('.')[:-1])\n",
    "    csv_file = base_name + '.csv'\n",
    "    f = open(csv_file, \"w\")\n",
    "    f.write(\"Frame,X,Y\\n\")\n",
    "\n",
    "    ind = 0\n",
    "    strokes = [[]]\n",
    "    lastp = np.zeros(2)\n",
    "    pause_count = 0\n",
    "\n",
    "    x_positions = []\n",
    "    y_positions = []\n",
    "    recent_velocities = []\n",
    "\n",
    "    for i in tqdm(range(num_frames), desc=\"Processing frames\"):\n",
    "        ret, frame = read_frame()\n",
    "        if not ret:\n",
    "            break\n",
    "\n",
    "        frame_diff = cv2.absdiff(prev_frame, frame)\n",
    "        gray_diff = cv2.cvtColor(frame_diff, cv2.COLOR_BGR2GRAY)\n",
    "        _, thresh = cv2.threshold(gray_diff, 30, 255, cv2.THRESH_BINARY)\n",
    "\n",
    "        contours, _ = cv2.findContours(thresh, cv2.RETR_EXTERNAL, cv2.CHAIN_APPROX_SIMPLE)\n",
    "\n",
    "        if not contours:\n",
    "            pause_count += 1\n",
    "        else:\n",
    "            pause_count = 0\n",
    "\n",
    "            for contour in contours:\n",
    "                area = cv2.contourArea(contour)\n",
    "                if area > 0.2:  # Lowered threshold\n",
    "                    M = cv2.moments(contour)\n",
    "\n",
    "        # Adaptive thresholds based on recent velocities\n",
    "        avg_velocity = np.mean(recent_velocities) if recent_velocities else 0\n",
    "        adaptive_frame_thresh = cfg.frame_thresh + int(avg_velocity / 10)\n",
    "        adaptive_dist_thresh = cfg.distance_thresh + avg_velocity * 0.5\n",
    "\n",
    "        if pause_count > adaptive_frame_thresh:\n",
    "            if strokes[-1]:\n",
    "                strokes.append([])\n",
    "\n",
    "        for contour in contours:\n",
    "            new_pts = []\n",
    "            if cv2.contourArea(contour) > cfg.area_thresh:\n",
    "                M = cv2.moments(contour)\n",
    "                if M[\"m00\"] != 0:\n",
    "                    cx = M[\"m10\"] / M[\"m00\"]\n",
    "                    cy = M[\"m01\"] / M[\"m00\"]\n",
    "                    new_pts.append(np.array((cx, cy)))\n",
    "\n",
    "                    x_positions.append(cx)\n",
    "                    y_positions.append(cy)\n",
    "                    f.write(f\"{int(cap.get(cv2.CAP_PROP_POS_FRAMES))},{int(cx)},{int(cy)}\\n\")\n",
    "\n",
    "            if new_pts:\n",
    "                dists = [np.linalg.norm(p - lastp) for p in new_pts]\n",
    "                newp = new_pts[np.argmin(dists)]\n",
    "                velocity = np.linalg.norm(newp - lastp)\n",
    "                recent_velocities.append(velocity)\n",
    "                if len(recent_velocities) > 5:\n",
    "                    recent_velocities.pop(0)\n",
    "\n",
    "                if (velocity > adaptive_dist_thresh and strokes[-1]):\n",
    "                    strokes.append([])\n",
    "                lastp = newp\n",
    "                strokes[-1].append(lastp)\n",
    "\n",
    "        prev_frame = frame\n",
    "\n",
    "    f.close()\n",
    "    strokes = [np.array(P) for P in strokes if len(P) > 1]\n",
    "\n",
    "    print(f\"\\nPosition data saved to {csv_file}\")\n",
    "    cap.release()\n",
    "\n",
    "    # plt.figure(figsize=(5,5))\n",
    "    # for P in strokes[:]:\n",
    "    #     plt.plot(P[:,0], P[:,1])\n",
    "    # plt.axis('equal')\n",
    "    # plt.gca().invert_yaxis()\n",
    "    # plt.savefig(base_name + '.pdf')\n",
    "    # plt.show()\n",
    "\n",
    "    ########### COMPUTING FEATURES ############\n",
    "    sigma =1\n",
    "\n",
    "    # alternative to SG!\n",
    "    def gauss_derivative(X, order, sigma):\n",
    "        return gaussian_filter1d(X, sigma, order=order, axis=0)\n",
    "\n",
    "    def compute_stroke_length(X):\n",
    "        deltas = np.diff(X, axis=0)  # Differences between consecutive points\n",
    "        distances = np.sqrt((deltas ** 2).sum(axis=1))  # Euclidean distances\n",
    "        return distances.sum()\n",
    "\n",
    "    def compute_speed(X, sigma=1, sampling_rate=frame_rate):\n",
    "        dX = gauss_derivative(X, 1, sigma)\n",
    "        speed = np.sqrt(dX[:, 0]**2 + dX[:, 1]**2) * sampling_rate\n",
    "        return speed\n",
    "\n",
    "    def compute_acceleration(X, sigma=1, sampling_rate=frame_rate):\n",
    "        d2X = gauss_derivative(X, 2, sigma)\n",
    "        acceleration = np.sqrt(d2X[:, 0]**2 + d2X[:, 1]**2) * (sampling_rate ** 2)\n",
    "        return acceleration\n",
    "\n",
    "    def compute_jerk(X, sigma=1, sampling_rate=frame_rate):\n",
    "        d3X = gauss_derivative(X, 3, sigma)\n",
    "        jerk = np.sqrt(d3X[:, 0]**2 + d3X[:, 1]**2) * (sampling_rate ** 3)\n",
    "        return jerk\n",
    "\n",
    "    def compute_dimensionless_jerk(X, sampling_rate=frame_rate):\n",
    "        jerk = compute_jerk(X, sigma=1) * (sampling_rate ** 3)  # Convert to units/sec³\n",
    "        jerk_squared_integral = np.sum(jerk ** 2) / sampling_rate  # ∫ jerk² dt\n",
    "        duration = len(X) / sampling_rate  # T\n",
    "        total_distance = np.sum(compute_speed(X)) / sampling_rate  # A ≈ path length\n",
    "\n",
    "        if total_distance == 0 or duration == 0:\n",
    "            return np.nan\n",
    "\n",
    "        dless_jerk = (jerk_squared_integral * duration**5) / (total_distance**2)\n",
    "        return dless_jerk\n",
    "\n",
    "    \n",
    "    # e.g., in Flash & Hogan 1985, or Teulings 1997\n",
    "    # Parkinsonism reduces coordination of fingers, wrist, and arm in fine motor control\n",
    "    # Sensitivity of smoothness measures to movement duration, amplitude, and arrests\n",
    "    # On the analysis of movement smoothness\n",
    "\n",
    "    def compute_sparc(speed, sampling_rate=frame_rate, padlevel=4, cutoff=10.0, amp_th=0.05):\n",
    "        \"\"\"\n",
    "        Parameters:\n",
    "            speed : np.ndarray \n",
    "            sampling_rate : float\n",
    "                Sampling frequency in Hz (default: 30.0)\n",
    "            padlevel : int\n",
    "                Zero-padding level for FFT (default: 4)\n",
    "            cutoff : float\n",
    "                Cutoff frequency for spectrum selection (default: 10.0)\n",
    "            amp_th : float\n",
    "                Amplitude threshold to define the selected frequency region (default: 0.05)\n",
    "        Returns:\n",
    "            float: SPARC value (lower = less smooth)\n",
    "        \"\"\"\n",
    "        if len(speed) < 5:\n",
    "            return np.nan\n",
    "\n",
    "        # zero-padding for FFT\n",
    "        nfft = int(2 ** (ceil(log2(len(speed))) + padlevel))\n",
    "\n",
    "        # frequency array and magnitude spectrum\n",
    "        f = arange(0, sampling_rate, sampling_rate / nfft)\n",
    "        Mf = np.abs(fft(speed, nfft))\n",
    "        Mf = Mf[:len(f)]\n",
    "        if Mf.max() == 0:\n",
    "            return np.nan\n",
    "        Mf = Mf / Mf.max()  # normalize\n",
    "\n",
    "        # select spectrum below cutoff freq\n",
    "        f_sel = f[f <= cutoff]\n",
    "        Mf_sel = Mf[:len(f_sel)]\n",
    "\n",
    "        # apply amplitude threshold\n",
    "        above_thresh = np.where(Mf_sel >= amp_th)[0]\n",
    "        if len(above_thresh) < 2:\n",
    "            return np.nan\n",
    "        f_sel = f_sel[above_thresh[0]:above_thresh[-1] + 1]\n",
    "        Mf_sel = Mf_sel[above_thresh[0]:above_thresh[-1] + 1]\n",
    "\n",
    "        # compute spectral arc length (negative)\n",
    "        norm_freq = np.diff(f_sel) / (f_sel[-1] - f_sel[0])\n",
    "        sparc = -np.sum(np.sqrt(norm_freq**2 + np.diff(Mf_sel)**2))\n",
    "\n",
    "        return sparc\n",
    "\n",
    "    def extract_features(strokes, sampling_rate=frame_rate):\n",
    "        strokes_duration = []\n",
    "        strokes_length = []\n",
    "        speed_data = []\n",
    "        acceleration_data = []\n",
    "        jerk_data = []\n",
    "        dimensionless_jerk_data = []\n",
    "        sparc_scores = []\n",
    "        ind = 0  # Time index tracking\n",
    "        for X in strokes:\n",
    "            duration = len(X)/sampling_rate\n",
    "            length = compute_stroke_length(X)\n",
    "            speed = compute_speed(X)\n",
    "            acceleration = compute_acceleration(X)\n",
    "            jerk = compute_jerk(X)\n",
    "            norm_dless_jerk = compute_dimensionless_jerk(X, sampling_rate)\n",
    "            sparc = compute_sparc(speed, sampling_rate)\n",
    "\n",
    "            strokes_duration.append(duration)\n",
    "            strokes_length.append(length)\n",
    "\n",
    "            # Store results with corresponding time index\n",
    "            n = len(speed)\n",
    "            time = np.linspace(ind, ind + n - 1, n)\n",
    "            speed_data.append((time, speed))\n",
    "\n",
    "            n = len(acceleration)\n",
    "            time = np.linspace(ind, ind + n - 1, n)\n",
    "            acceleration_data.append((time, acceleration))\n",
    "\n",
    "            n = len(jerk)\n",
    "            time = np.linspace(ind, ind + n - 1, n)\n",
    "            jerk_data.append((time, jerk))\n",
    "\n",
    "            dimensionless_jerk_data.append((ind, norm_dless_jerk))\n",
    "\n",
    "            sparc_scores.append(sparc)\n",
    "\n",
    "            ind += len(X)\n",
    "\n",
    "        return strokes_duration, strokes_length, speed_data, acceleration_data, jerk_data, dimensionless_jerk_data, sparc_scores\n",
    "\n",
    "    def extract_features_means_SDs(strokes, sampling_rate=frame_rate):\n",
    "        strokes_duration = []\n",
    "        strokes_length = []\n",
    "        speed_stats = []\n",
    "        acceleration_stats = []\n",
    "        jerk_stats = []\n",
    "        dimensionless_jerk_data = []\n",
    "        sparc_scores = []\n",
    "        ind = 0  # Time index tracking\n",
    "        for X in strokes:\n",
    "            duration = len(X)/sampling_rate\n",
    "            length = compute_stroke_length(X)\n",
    "            speed = compute_speed(X)\n",
    "            acceleration = compute_acceleration(X)\n",
    "            jerk = compute_jerk(X)\n",
    "            norm_dless_jerk = compute_dimensionless_jerk(X, sampling_rate)\n",
    "            sparc = compute_sparc(speed, sampling_rate)\n",
    "\n",
    "            strokes_duration.append(duration)\n",
    "            strokes_length.append(length)        \n",
    "\n",
    "            speed_mean = np.mean(speed)\n",
    "            speed_std = np.std(speed)\n",
    "\n",
    "            acceleration_mean = np.mean(acceleration)\n",
    "            acceleration_std = np.std(acceleration)\n",
    "\n",
    "            jerk_mean = np.mean(jerk)\n",
    "            jerk_std = np.std(jerk)\n",
    "\n",
    "            # Append a tuple of (mean, std) for each characteristic\n",
    "            speed_stats.append((speed_mean, speed_std))\n",
    "            acceleration_stats.append((acceleration_mean, acceleration_std))\n",
    "            jerk_stats.append((jerk_mean, jerk_std))\n",
    "\n",
    "            dimensionless_jerk_data.append((norm_dless_jerk))\n",
    "\n",
    "            sparc_scores.append(sparc)\n",
    "\n",
    "            ind += len(X)\n",
    "        return strokes_duration, strokes_length, speed_stats, acceleration_stats, jerk_stats, dimensionless_jerk_data,  sparc_scores\n",
    "\n",
    "    def plot_feature(data, title, ylabel):\n",
    "        plt.figure(figsize=(30, 3))\n",
    "        for t, values in data:\n",
    "            plt.plot(t, values)\n",
    "        plt.title(title)\n",
    "        plt.xlabel(\"Time\")\n",
    "        plt.ylabel(ylabel)\n",
    "        plt.grid(True)\n",
    "\n",
    "    def plot_all_features(strokes):\n",
    "        strokes_duration, strokes_length, speed_data, acceleration_data, jerk_data, dimensionless_jerk_data, sparc_scores = extract_features(strokes)\n",
    "        plot_feature(speed_data, \"Speed of Strokes\", \"Speed (pixels/frame)\")\n",
    "        plot_feature(acceleration_data, \"Acceleration of Strokes\", \"Acceleration (pixels/frame²)\")\n",
    "        plot_feature(jerk_data, \"Jerk of Strokes\", \"Jerk (pixels/frame³)\")\n",
    "        plt.show()\n",
    "        print(\"\\nSPARC Smoothness Scores (per stroke):\")\n",
    "        #for i, score in enumerate(sparc_scores):        \n",
    "\n",
    "    #plot_all_features(strokes)\n",
    "    ########################\n",
    "\n",
    "    def parse_filename(filename):\n",
    "        base = os.path.basename(filename)\n",
    "        name, _ = os.path.splitext(base)\n",
    "        parts = name.split('_')\n",
    "        participant_id = parts[0]\n",
    "        diagnosis = parts[2]\n",
    "        e_order = parts[3]\n",
    "        emotion = parts[4]\n",
    "        code = parts[5]\n",
    "        return participant_id, diagnosis, e_order, emotion, code\n",
    "\n",
    "    def append_master(strokes, filename, master_csv_path='second_pass.csv', sampling_rate=frame_rate):\n",
    "        # Extract features\n",
    "        (\n",
    "            strokes_duration,\n",
    "            strokes_length,\n",
    "            speed_stats,\n",
    "            acceleration_stats,\n",
    "            jerk_stats,\n",
    "            dimensionless_jerk_data,\n",
    "            sparc_scores\n",
    "        ) = extract_features_means_SDs(strokes, sampling_rate=frame_rate)\n",
    "\n",
    "        # Extract metadata\n",
    "        participant_id, diagnosis, e_order, emotion, code = parse_filename(filename)\n",
    "\n",
    "        # Create per-stroke summary rows\n",
    "        summary_rows = []\n",
    "        for i in range(len(strokes)):\n",
    "            row = {\n",
    "                \"ParticipantID\": participant_id,\n",
    "                \"Diagnosis\": diagnosis,\n",
    "                \"E/Order\": e_order,\n",
    "                \"Emotion\": emotion,\n",
    "                \"Quality\": code,\n",
    "                \"Stroke\": i + 1,\n",
    "                \"Stroke Duration (seconds)\": strokes_duration[i],\n",
    "                \"Stroke Length (pixels)\": strokes_length[i],\n",
    "                \"Speed Mean\": speed_stats[i][0],\n",
    "                \"Speed SD\": speed_stats[i][1],\n",
    "                \"Accel Mean\": acceleration_stats[i][0],\n",
    "                \"Accel SD\": acceleration_stats[i][1],\n",
    "                \"Jerk Mean\": jerk_stats[i][0],\n",
    "                \"Jerk SD\": jerk_stats[i][1],\n",
    "                \"dlessJerk\": dimensionless_jerk_data[i],\n",
    "                \"SPARC\": sparc_scores[i]\n",
    "            }\n",
    "            summary_rows.append(row)\n",
    "\n",
    "        df = pd.DataFrame(summary_rows)\n",
    "\n",
    "        if not os.path.exists(master_csv_path):\n",
    "            df.to_csv(master_csv_path, index=False)\n",
    "            print(f\" Created new master file: {master_csv_path}\")\n",
    "        else:\n",
    "            df.to_csv(master_csv_path, mode='a', header=False, index=False)\n",
    "            print(f\" Appended data to existing master file: {master_csv_path}\")\n",
    "\n",
    "    append_master(strokes, filename)\n",
    "\n"
   ]
  },
  {
   "cell_type": "code",
   "execution_count": 2,
   "id": "59dc0171-0931-4f34-bd8b-30b9194881be",
   "metadata": {},
   "outputs": [
    {
     "name": "stdout",
     "output_type": "stream",
     "text": [
      "Requirement already satisfied: natsort in /Users/sienajobson/opt/anaconda3/lib/python3.9/site-packages (8.4.0)\n",
      "Note: you may need to restart the kernel to use updated packages.\n"
     ]
    }
   ],
   "source": [
    "pip install natsort\n"
   ]
  },
  {
   "cell_type": "code",
   "execution_count": 7,
   "id": "1cab1372-8fc9-417b-a669-c64efb91489d",
   "metadata": {},
   "outputs": [
    {
     "name": "stdout",
     "output_type": "stream",
     "text": [
      "37.8644715947759\n"
     ]
    }
   ],
   "source": [
    "print(frame_rate)"
   ]
  },
  {
   "cell_type": "code",
   "execution_count": 28,
   "id": "657d297f-c1da-4165-803f-89f2785285af",
   "metadata": {},
   "outputs": [],
   "source": [
    "import pandas as pd\n",
    "\n",
    "# Load your CSV\n",
    "df = pd.read_csv(\"second_pass.csv\")\n",
    "\n",
    "# Group by Participant and Emotion (i.e., each video), then average motion features\n",
    "video_summary = df.groupby(['ParticipantID', 'Emotion'], as_index=False).agg({\n",
    "    'Stroke Duration (seconds)': 'mean',\n",
    "    'Stroke Length (pixels)': 'mean',\n",
    "    'Speed Mean': 'mean',\n",
    "    'Speed SD': 'mean',\n",
    "    'Accel Mean': 'mean',\n",
    "    'Accel SD': 'mean',\n",
    "    'Jerk Mean': 'mean',\n",
    "    'Jerk SD': 'mean',\n",
    "    'dlessJerk': 'mean',\n",
    "    'SPARC': 'mean',\n",
    "    # Add other motion features here\n",
    "})\n",
    "\n",
    "# If Diagnosis is participant-level, merge it back in\n",
    "diagnosis = df[['ParticipantID', 'Diagnosis']].drop_duplicates()\n",
    "\n",
    "video_summary = pd.merge(video_summary, diagnosis, on='ParticipantID', how='left')\n"
   ]
  },
  {
   "cell_type": "code",
   "execution_count": 30,
   "id": "4eb369e7-aaf5-4f74-bdde-e1c39043f41a",
   "metadata": {},
   "outputs": [],
   "source": [
    "# Save to CSV (no index column in the file)\n",
    "video_summary.to_csv(\"video_summary.csv\", index=False)\n"
   ]
  },
  {
   "cell_type": "code",
   "execution_count": null,
   "id": "bf6ad8bb-6e6e-4a94-9327-4a1a5f44ce28",
   "metadata": {},
   "outputs": [],
   "source": []
  }
 ],
 "metadata": {
  "kernelspec": {
   "display_name": "Python 3 (ipykernel)",
   "language": "python",
   "name": "python3"
  },
  "language_info": {
   "codemirror_mode": {
    "name": "ipython",
    "version": 3
   },
   "file_extension": ".py",
   "mimetype": "text/x-python",
   "name": "python",
   "nbconvert_exporter": "python",
   "pygments_lexer": "ipython3",
   "version": "3.9.19"
  }
 },
 "nbformat": 4,
 "nbformat_minor": 5
}
